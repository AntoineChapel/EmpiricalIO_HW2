{
 "cells": [
  {
   "cell_type": "code",
   "execution_count": 1,
   "id": "41529075",
   "metadata": {},
   "outputs": [],
   "source": [
    "import pandas as pd\n",
    "import numpy as np\n",
    "from scipy.optimize import minimize"
   ]
  },
  {
   "cell_type": "code",
   "execution_count": 2,
   "id": "3e88e4e7",
   "metadata": {},
   "outputs": [],
   "source": [
    "T = 5_000\n",
    "M = np.array([[0.6, 0.4], [0.4, 0.6]])\n",
    "X_vals = np.array([0, 1])\n",
    "theta_true = np.array([-2, 6, -2.5, 4])\n",
    "R = 0.95"
   ]
  },
  {
   "cell_type": "code",
   "execution_count": 3,
   "id": "e09afc14",
   "metadata": {},
   "outputs": [],
   "source": [
    "X = np.empty((T))\n",
    "X[0] = 0\n",
    "for t in range(1, T):\n",
    "    X[t] = np.random.choice(X_vals, p=M[int(X[t-1]), :])"
   ]
  },
  {
   "cell_type": "code",
   "execution_count": 4,
   "id": "a3a55d4a",
   "metadata": {},
   "outputs": [],
   "source": [
    "def p_fixed_point_iteration(p, theta, Xt, Eti, Etj, M):\n",
    "    R = 0.95\n",
    "    alpha, beta, gamma, c = theta\n",
    "    # Current p(Xt, Eti, Etj)\n",
    "    p_current = p[int(Xt), int(Etj), int(Eti)]\n",
    "\n",
    "    # Integral term over x' (next state)\n",
    "    integral = 0.0\n",
    "    for x_prime in [0, 1]:\n",
    "        prob_x_prime = M[int(Xt), x_prime]\n",
    "        log_term = (\n",
    "            p_current * np.log(1 - np.clip(p[x_prime, 1, 1], 1e-10, 1-1e-10)) +\n",
    "            (1 - p_current) * np.log(1 - np.clip(p[x_prime, 1, 0], 1e-10, 1-1e-10)))\n",
    "        integral += prob_x_prime * log_term\n",
    "\n",
    "    # RHS of the equation\n",
    "    rhs = (\n",
    "        alpha + beta * Xt + gamma * p_current - c * (Eti == 0) + \n",
    "        R * np.euler_gamma - R * integral\n",
    "    )\n",
    "    return 1 / (1 + np.exp(-rhs))\n",
    "\n",
    "def F(p, theta, M):\n",
    "    p_next = np.zeros_like(p)\n",
    "    for Xt in [0, 1]:\n",
    "        for Eti in [0, 1]:\n",
    "            for Etj in [0, 1]:\n",
    "                p_next[Xt, Eti, Etj] = p_fixed_point_iteration(p, theta, Xt, Eti, Etj, M)\n",
    "    return p_next\n",
    "\n",
    "def fixed_point(theta, M, tol=1e-6, max_iter=1000, verbose=False):\n",
    "    p_init = np.random.uniform(0.1, 0.9, size=(2, 2, 2))\n",
    "    itercount = 0\n",
    "    for _ in range(max_iter):\n",
    "        p_next = F(p_init, theta, M)\n",
    "        if np.max(np.abs(p_next - p_init)) < tol:\n",
    "            break\n",
    "        if verbose:\n",
    "            print(f\"Iteration {itercount}: max diff = {np.max(np.abs(p_next - p_init))}\")\n",
    "        p_init = p_next\n",
    "        itercount += 1\n",
    "        \n",
    "    return p_next"
   ]
  },
  {
   "cell_type": "code",
   "execution_count": 5,
   "id": "a1c666c4",
   "metadata": {},
   "outputs": [],
   "source": [
    "p_true = fixed_point(theta_true, M, verbose=False)"
   ]
  },
  {
   "cell_type": "code",
   "execution_count": 6,
   "id": "d97736cb",
   "metadata": {},
   "outputs": [],
   "source": [
    "E = np.empty((T, 2))\n",
    "E[0, :] = np.array([0, 1])"
   ]
  },
  {
   "cell_type": "code",
   "execution_count": 7,
   "id": "e9ad7b9e",
   "metadata": {},
   "outputs": [],
   "source": [
    "###Simulate choices\n",
    "actions = np.empty((T, 2))\n",
    "for t in range(T):\n",
    "    player0_proba_action = p_true[int(X[t]), int(E[t, 0]), int(E[t, 1])]\n",
    "    player1_proba_action = p_true[int(X[t]), int(E[t, 1]), int(E[t, 0])]\n",
    "    player0_action = np.random.choice([0, 1], p=[1 - player0_proba_action, player0_proba_action])\n",
    "    player1_action = np.random.choice([0, 1], p=[1 - player1_proba_action, player1_proba_action])\n",
    "    actions[t, :] = np.array([player0_action, player1_action])\n",
    "    if t < T - 1:\n",
    "        E[t+1, 0] = player0_action\n",
    "        E[t+1, 1] = player1_action\n"
   ]
  },
  {
   "cell_type": "code",
   "execution_count": 8,
   "id": "cbd5b859",
   "metadata": {},
   "outputs": [],
   "source": [
    "df = pd.DataFrame(np.hstack((X.reshape(-1, 1), E, actions)))\n",
    "df.columns = ['X', 'E0', 'E1', 'A0', 'A1']\n",
    "df = df.astype(int)"
   ]
  },
  {
   "cell_type": "code",
   "execution_count": 9,
   "id": "7ee0bd1b",
   "metadata": {},
   "outputs": [],
   "source": [
    "df_np = df.values"
   ]
  },
  {
   "cell_type": "code",
   "execution_count": 10,
   "id": "35c057f6",
   "metadata": {},
   "outputs": [
    {
     "data": {
      "text/plain": [
       "array([[0, 0, 1, 0, 1],\n",
       "       [0, 0, 1, 0, 1],\n",
       "       [0, 0, 1, 0, 1],\n",
       "       ...,\n",
       "       [0, 1, 0, 1, 0],\n",
       "       [0, 1, 0, 1, 0],\n",
       "       [0, 1, 0, 1, 0]], shape=(5000, 5))"
      ]
     },
     "execution_count": 10,
     "metadata": {},
     "output_type": "execute_result"
    }
   ],
   "source": [
    "df_np"
   ]
  },
  {
   "cell_type": "code",
   "execution_count": 11,
   "id": "0d88a826",
   "metadata": {},
   "outputs": [],
   "source": [
    "### Basis for this function obtained from DeepSeek\n",
    "def estimate_M_hat(sequence):\n",
    "    counts = np.zeros((2, 2))\n",
    "    for i in range(len(sequence)-1):\n",
    "        current = sequence[i]\n",
    "        next = sequence[i+1]\n",
    "        counts[current, next] += 1\n",
    "    \n",
    "    row_sums = counts.sum(axis=1, keepdims=True)\n",
    "    transition_matrix = counts / row_sums\n",
    "    \n",
    "    return transition_matrix"
   ]
  },
  {
   "cell_type": "markdown",
   "id": "259415b6",
   "metadata": {},
   "source": [
    "## Estimation by NFXP"
   ]
  },
  {
   "cell_type": "code",
   "execution_count": 12,
   "id": "efc8bedf",
   "metadata": {},
   "outputs": [],
   "source": [
    "M_hat = estimate_M_hat(df_np[:, 0])"
   ]
  },
  {
   "cell_type": "code",
   "execution_count": 13,
   "id": "0e9ce741",
   "metadata": {},
   "outputs": [],
   "source": [
    "def nfxp_log_likelihood(theta):\n",
    "    CCP = fixed_point(theta, M_hat, verbose=False)\n",
    "    logL = 0\n",
    "    for t in range(T):\n",
    "        ###firm 1:\n",
    "        Xt = df_np[t, 0]\n",
    "        Et_own = df_np[t, 1]\n",
    "        Et_other = df_np[t, 2]\n",
    "        action_own = df_np[t, 3]\n",
    "        logL += np.log(action_own*CCP[Xt, Et_own, Et_other] \n",
    "                       + (1-action_own)*(1-CCP[Xt, Et_own, Et_other]))\n",
    "        ###firm 2:\n",
    "        Et_own = df_np[t, 2]\n",
    "        Et_other = df_np[t, 1]\n",
    "        action_own = df_np[t, 4]\n",
    "        logL += np.log(action_own*CCP[Xt, Et_own, Et_other] \n",
    "                       + (1-action_own)*(1-CCP[Xt, Et_own, Et_other]))\n",
    "    return -logL"
   ]
  },
  {
   "cell_type": "code",
   "execution_count": 14,
   "id": "7ee5ad56",
   "metadata": {},
   "outputs": [],
   "source": [
    "## To facilitate convergence, we start close to the true parameter\n",
    "\n",
    "x0_val = theta_true+np.random.uniform(-0.1, 0.1, size=theta_true.shape)\n"
   ]
  },
  {
   "cell_type": "code",
   "execution_count": 15,
   "id": "ebbed632",
   "metadata": {},
   "outputs": [],
   "source": [
    "result_nfxp = minimize(nfxp_log_likelihood,x0=x0_val, method='Nelder-Mead')"
   ]
  },
  {
   "cell_type": "code",
   "execution_count": 16,
   "id": "1e62bbbd",
   "metadata": {},
   "outputs": [
    {
     "name": "stdout",
     "output_type": "stream",
     "text": [
      "[-2.04624487  6.20201046 -2.56666881  4.14988254]\n"
     ]
    }
   ],
   "source": [
    "theta_nfxp = result_nfxp.x\n",
    "print(theta_nfxp) #close enough to the true parameters."
   ]
  },
  {
   "cell_type": "markdown",
   "id": "272f7259",
   "metadata": {},
   "source": [
    "## Estimation via Hotz-Miller"
   ]
  },
  {
   "cell_type": "code",
   "execution_count": 17,
   "id": "b2099e4c",
   "metadata": {},
   "outputs": [],
   "source": [
    "def estimate_p_hat(df):\n",
    "    p_hat = np.zeros((2, 2, 2))\n",
    "    p_hat[0, 0, 0] = df.query('X == 0 & E0 == 0 & E1 == 0')[['A0', 'A1']].values.mean()\n",
    "    p_hat[0, 0, 1] = (df.query('X == 0 & E0 == 0 & E1 == 1')['A0'].mean() \\\n",
    "                   + df.query('X == 0 & E0 == 1 & E1 == 0')['A1'].mean())/2\n",
    "    p_hat[0, 1, 0] = (df.query('X == 0 & E0 == 1 & E1 == 0')['A0'].mean() \\\n",
    "                   + df.query('X == 0 & E0 == 0 & E1 == 1')['A1'].mean())/2\n",
    "    p_hat[0, 1, 1] = df.query('X == 0 & E0 == 1 & E1 == 1')[['A0', 'A1']].values.mean()\n",
    "\n",
    "    p_hat[1, 0, 0] = df.query('X == 1 & E0 == 0 & E1 == 0')[['A0', 'A1']].values.mean()\n",
    "    p_hat[1, 0, 1] = (df.query('X == 1 & E0 == 0 & E1 == 1')['A0'].mean() \\\n",
    "                   + df.query('X == 1 & E0 == 1 & E1 == 0')['A1'].mean())/2\n",
    "    p_hat[1, 1, 0] = (df.query('X == 1 & E0 == 1 & E1 == 0')['A0'].mean() \\\n",
    "                   + df.query('X == 1 & E0 == 0 & E1 == 1')['A1'].mean())/2\n",
    "    p_hat[1, 1, 1] = df.query('X == 1 & E0 == 1 & E1 == 1')[['A0', 'A1']].values.mean()\n",
    "    return p_hat\n",
    "p_hat = np.clip(estimate_p_hat(df), 1e-10, 1-1e-10)"
   ]
  },
  {
   "cell_type": "code",
   "execution_count": 18,
   "id": "dce95954",
   "metadata": {},
   "outputs": [],
   "source": [
    "def CCP_tilde(theta):\n",
    "    alpha, beta, gamma, c = theta\n",
    "    V_tilde = np.zeros((2, 2, 2))\n",
    "    for x in [0, 1]:\n",
    "        for e_own in [0, 1]:\n",
    "            for e_other in [0, 1]:\n",
    "                p_current = p_hat[x, e_own, e_other]\n",
    "                integral = M_hat[int(x), 0]*(p_current*np.log(1-p_hat[0, 1, 1]) + (1-p_current)*np.log(1-p_hat[0, 1, 0])) \\\n",
    "                         + M_hat[int(x), 1]*(p_current*np.log(1-p_hat[1, 1, 1]) + (1-p_current)*np.log(1-p_hat[1, 1, 0]))           \n",
    "                V_tilde[x, e_own, e_other] = alpha + beta*x \\\n",
    "                                        + gamma*p_hat[x, e_other, e_own] - c * (e_own == 0) + R*np.euler_gamma \\\n",
    "                                        - R*integral\n",
    "    CCP_tilde = np.clip(1 / (1 + np.exp(-V_tilde)), 1e-10, 1-1e-10)\n",
    "    return CCP_tilde"
   ]
  },
  {
   "cell_type": "code",
   "execution_count": 19,
   "id": "3fef3bc2",
   "metadata": {},
   "outputs": [],
   "source": [
    "def hm_log_likelihood(theta):\n",
    "    CCP = CCP_tilde(theta)\n",
    "    logL = 0\n",
    "    for t in range(T):\n",
    "        ###firm 1:\n",
    "        Xt = df_np[t, 0]\n",
    "        Et_own = df_np[t, 1]\n",
    "        Et_other = df_np[t, 2]\n",
    "        action_own = df_np[t, 3]\n",
    "        logL += np.log(action_own*CCP[Xt, Et_own, Et_other] \n",
    "                       + (1-action_own)*(1-CCP[Xt, Et_own, Et_other]))\n",
    "        ###firm 2:\n",
    "        Et_own = df_np[t, 2]\n",
    "        Et_other = df_np[t, 1]\n",
    "        action_own = df_np[t, 4]\n",
    "        logL += np.log(action_own*CCP[Xt, Et_own, Et_other] \n",
    "                       + (1-action_own)*(1-CCP[Xt, Et_own, Et_other]))\n",
    "    return -logL"
   ]
  },
  {
   "cell_type": "code",
   "execution_count": 20,
   "id": "017903bd",
   "metadata": {},
   "outputs": [],
   "source": [
    "x0_val = theta_true+np.random.uniform(-0.1, 0.1, size=theta_true.shape)\n",
    "result_hm = minimize(hm_log_likelihood,x0=x0_val, method='Nelder-Mead')"
   ]
  },
  {
   "cell_type": "code",
   "execution_count": 21,
   "id": "88d1526c",
   "metadata": {},
   "outputs": [],
   "source": [
    "theta_hm = result_hm.x"
   ]
  },
  {
   "cell_type": "code",
   "execution_count": 22,
   "id": "a054b0a1",
   "metadata": {},
   "outputs": [
    {
     "name": "stdout",
     "output_type": "stream",
     "text": [
      "True parameters:  [-2.   6.  -2.5  4. ]\n",
      "NFXP estimated parameters:  [-2.04624487  6.20201046 -2.56666881  4.14988254]\n",
      "HM estimated parameters:  [-1.13142342  7.15479228 -4.09442228  4.70285389]\n"
     ]
    }
   ],
   "source": [
    "###Results\n",
    "print(\"True parameters: \", theta_true)\n",
    "print(\"NFXP estimated parameters: \", theta_nfxp)\n",
    "print(\"HM estimated parameters: \", theta_hm)"
   ]
  }
 ],
 "metadata": {
  "kernelspec": {
   "display_name": "hw2io",
   "language": "python",
   "name": "python3"
  },
  "language_info": {
   "codemirror_mode": {
    "name": "ipython",
    "version": 3
   },
   "file_extension": ".py",
   "mimetype": "text/x-python",
   "name": "python",
   "nbconvert_exporter": "python",
   "pygments_lexer": "ipython3",
   "version": "3.12.3"
  }
 },
 "nbformat": 4,
 "nbformat_minor": 5
}
